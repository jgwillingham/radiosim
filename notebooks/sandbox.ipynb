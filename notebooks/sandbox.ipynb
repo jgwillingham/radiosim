{
 "cells": [
  {
   "cell_type": "code",
   "execution_count": 4,
   "id": "9b055bb3-a172-404e-901f-16dbda1e2884",
   "metadata": {},
   "outputs": [
    {
     "ename": "ModuleNotFoundError",
     "evalue": "No module named 'radiosim'",
     "output_type": "error",
     "traceback": [
      "\u001b[0;31m---------------------------------------------------------------------------\u001b[0m",
      "\u001b[0;31mModuleNotFoundError\u001b[0m                       Traceback (most recent call last)",
      "Input \u001b[0;32mIn [4]\u001b[0m, in \u001b[0;36m<cell line: 1>\u001b[0;34m()\u001b[0m\n\u001b[0;32m----> 1\u001b[0m \u001b[38;5;28;01mfrom\u001b[39;00m \u001b[38;5;21;01mradiosim\u001b[39;00m\u001b[38;5;21;01m.\u001b[39;00m\u001b[38;5;21;01mmodems\u001b[39;00m \u001b[38;5;28;01mimport\u001b[39;00m QPSKModem\n\u001b[1;32m      2\u001b[0m \u001b[38;5;28;01mimport\u001b[39;00m \u001b[38;5;21;01mnumpy\u001b[39;00m \u001b[38;5;28;01mas\u001b[39;00m \u001b[38;5;21;01mnp\u001b[39;00m\n\u001b[1;32m      3\u001b[0m \u001b[38;5;28;01mimport\u001b[39;00m \u001b[38;5;21;01mmatplotlib\u001b[39;00m\u001b[38;5;21;01m.\u001b[39;00m\u001b[38;5;21;01mpyplot\u001b[39;00m \u001b[38;5;28;01mas\u001b[39;00m \u001b[38;5;21;01mplt\u001b[39;00m\n",
      "\u001b[0;31mModuleNotFoundError\u001b[0m: No module named 'radiosim'"
     ]
    }
   ],
   "source": [
    "from radiosim.modems import QPSKModem\n",
    "import numpy as np\n",
    "import matplotlib.pyplot as plt"
   ]
  },
  {
   "cell_type": "code",
   "execution_count": 42,
   "id": "1d42d277-23d8-453e-ab90-0901312571ac",
   "metadata": {},
   "outputs": [],
   "source": [
    "qpsk = QPSKModem(sps=4)"
   ]
  },
  {
   "cell_type": "code",
   "execution_count": 43,
   "id": "50f23d63-75fd-48b2-a333-181d98fd3e48",
   "metadata": {},
   "outputs": [],
   "source": [
    "data = np.random.rand(20)*100\n",
    "data = data.astype(np.uint8)"
   ]
  },
  {
   "cell_type": "code",
   "execution_count": 57,
   "id": "ed539443-ba3e-4e93-b00f-918d96ce2770",
   "metadata": {},
   "outputs": [],
   "source": [
    "symbols = qpsk.map(data)\n",
    "\n",
    "rcc = qpsk.get_pulse_filter(sps=4)\n",
    "bb = qpsk.apply_pulse_filter(symbols, rcc)\n",
    "\n",
    "bits = np.unpackbits(data)\n",
    "interp_bits = np.zeros(len(bits)*4, dtype=np.uint8)\n",
    "interp_bits[::4] = bits"
   ]
  },
  {
   "cell_type": "code",
   "execution_count": 58,
   "id": "77b0be6d-8b7b-4a59-82e1-917391b6b8a5",
   "metadata": {},
   "outputs": [
    {
     "name": "stderr",
     "output_type": "stream",
     "text": [
      "/tmp/ipykernel_22997/3457396072.py:1: UserWarning: In Matplotlib 3.3 individual lines on a stem plot will be added as a LineCollection instead of individual lines. This significantly improves the performance of a stem plot. To remove this warning and switch to the new behaviour, set the \"use_line_collection\" keyword argument to True.\n",
      "  plt.stem(interp_bits)\n"
     ]
    },
    {
     "data": {
      "text/plain": [
       "[<matplotlib.lines.Line2D at 0x7fddcc133970>]"
      ]
     },
     "execution_count": 58,
     "metadata": {},
     "output_type": "execute_result"
    }
   ],
   "source": [
    "plt.stem(interp_bits)\n",
    "plt.plot(bb.real)"
   ]
  },
  {
   "cell_type": "code",
   "execution_count": null,
   "id": "374367e7-984a-442a-91b5-72d201bd1a77",
   "metadata": {},
   "outputs": [],
   "source": []
  }
 ],
 "metadata": {
  "kernelspec": {
   "display_name": "Python 3 (ipykernel)",
   "language": "python",
   "name": "python3"
  },
  "language_info": {
   "codemirror_mode": {
    "name": "ipython",
    "version": 3
   },
   "file_extension": ".py",
   "mimetype": "text/x-python",
   "name": "python",
   "nbconvert_exporter": "python",
   "pygments_lexer": "ipython3",
   "version": "3.8.10"
  }
 },
 "nbformat": 4,
 "nbformat_minor": 5
}
